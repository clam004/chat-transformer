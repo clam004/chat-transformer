{
 "cells": [
  {
   "cell_type": "code",
   "execution_count": 2,
   "metadata": {},
   "outputs": [
    {
     "name": "stdout",
     "output_type": "stream",
     "text": [
      "importing Jupyter notebook from MoveData.ipynb\n"
     ]
    }
   ],
   "source": [
    "import time, sys, math, copy\n",
    "import numpy as np\n",
    "from matplotlib import pyplot as plt \n",
    "\n",
    "import torch\n",
    "import torch.nn as nn\n",
    "from torch.autograd import Variable\n",
    "import torch.nn.functional as F\n",
    "\n",
    "import import_ipynb\n",
    "from MoveData import Options, json2datatools, num_batches, nopeak_mask, create_masks\n",
    "%matplotlib inline"
   ]
  },
  {
   "cell_type": "markdown",
   "metadata": {},
   "source": [
    "If you are not using this notebook to learn, change the below variable `teaching` to `False` so that other notebooks can import the functions defined in this notebook without running all the examples, if you are here to learn and interact with the notebook, change it to `True`"
   ]
  },
  {
   "cell_type": "code",
   "execution_count": 3,
   "metadata": {},
   "outputs": [],
   "source": [
    "teaching = False # True "
   ]
  },
  {
   "cell_type": "markdown",
   "metadata": {},
   "source": [
    "Before going into this lesson, lets remind ourselves where the components we are about to learn fit into the big picture. Recall the overall architecture of the Transformer. It is useful to image yourself as a piece of data, then imagine the journey you are about to go on. \n",
    "\n",
    "Imagine you emerge from the `data_iter` function as a sequence of integers shaped (batch size, sequence length)\n",
    "\n",
    "The first place you will go is the encoder. It is initialized using `self.encoder = Encoder(in_vocab_size, emb_dim, n_layers, heads, dropout)` and used in the form `e_output = self.encoder(src_seq, src_mask)`. "
   ]
  },
  {
   "cell_type": "code",
   "execution_count": 4,
   "metadata": {},
   "outputs": [],
   "source": [
    "class Transformer(nn.Module):\n",
    "    def __init__(self, in_vocab_size, out_vocab_size, emb_dim, n_layers, heads, dropout):\n",
    "        super().__init__()\n",
    "        self.encoder = Encoder(in_vocab_size, emb_dim, n_layers, heads, dropout)\n",
    "        self.decoder = Decoder(out_vocab_size, emb_dim, n_layers, heads, dropout)\n",
    "        self.out = nn.Linear(emb_dim, out_vocab_size)\n",
    "    def forward(self, src_seq, src_mask, trg_seq,  trg_mask):\n",
    "        e_output = self.encoder(src_seq, src_mask)\n",
    "        d_output = self.decoder(trg_seq, trg_mask, e_output, src_mask)\n",
    "        output = self.out(d_output)\n",
    "        return output"
   ]
  },
  {
   "cell_type": "markdown",
   "metadata": {},
   "source": [
    "The first component, or module, within the Encoder, is the Embedder. emb_dim is short for embedding_dimensions\n",
    "\n",
    "`self.embed = Embedder(vocab_size, embedding_dimensions)` \n",
    "\n",
    "`x = self.embed(source_sequence)`"
   ]
  },
  {
   "cell_type": "code",
   "execution_count": 5,
   "metadata": {},
   "outputs": [],
   "source": [
    "class Encoder(nn.Module):\n",
    "    def __init__(self, vocab_size, emb_dim, n_layers, heads, dropout):\n",
    "        super().__init__()\n",
    "        self.n_layers = n_layers\n",
    "        self.embed = Embedder(vocab_size, emb_dim)\n",
    "        self.pe = PositionalEncoder(emb_dim, dropout=dropout)\n",
    "        self.layers = get_clones(EncoderLayer(emb_dim, heads, dropout), n_layers)\n",
    "        self.norm = Norm(emb_dim)\n",
    "    def forward(self, src_seq, mask):\n",
    "        x = self.embed(src_seq)\n",
    "        x = self.pe(x)\n",
    "        for i in range(self.n_layers):\n",
    "            x = self.layers[i](x, mask)\n",
    "        x = self.norm(x)\n",
    "        return x"
   ]
  },
  {
   "cell_type": "markdown",
   "metadata": {},
   "source": [
    "## Embedding\n",
    "\n",
    "What is Embedding? As we mentioned before, one ability, or limitation depending on how you look at it, of chloe is her fixed vocabulary, each word or symbol in her vocabulary is assigned an integer. For example the word hi is assigned 3, the word dog is 17, a word not in the vocabulary is 0. This integer is the `token` index. \n",
    "\n",
    "The neural nework sees every word as a vector. [A vector of 3 real numbers forms the coordinates in 3D space](https://youtu.be/fNk_zzaMoSs). We use several more dimensions than 3 in deep learning, if we use 512 dimensions, our `embedding_dimensions = 512`, this means that each word is a point in 512 dimensional space. The same concepts apply to 3D space in that the location of that word in 3D space tells you it's [meaning and meaning relative to other words](https://youtu.be/8rXD5-xhemo?t=1550).\n",
    "\n",
    "<img src=\"../saved/images/wordvectors.png\" height=400 width=400>\n",
    "\n",
    "In the image you see above, similar words are close to each other, not only that, the direction they are separated from eachother also carries meaning. In the image, there are 3 clusters of words and the separation between them has something to do with age/time/etc.  \n",
    "\n",
    "If you stack all the vectors on top of eachother row by row, you get a matrix. Remember how each word is represented by both a vector and an integer? well this integer is the index for a row in the matrix. The matrix is called the embedding matrix. you might say that we \"embed\" words into the matrix. Now for the example, run the cells below "
   ]
  },
  {
   "cell_type": "code",
   "execution_count": 5,
   "metadata": {},
   "outputs": [],
   "source": [
    "class Embedder(nn.Module):\n",
    "    def __init__(self, vocab_size, emb_dim):\n",
    "        super().__init__()\n",
    "        self.emb_dim = emb_dim\n",
    "        self.embed = nn.Embedding(vocab_size, emb_dim)\n",
    "    def forward(self, x):\n",
    "        return self.embed(x)"
   ]
  },
  {
   "cell_type": "markdown",
   "metadata": {},
   "source": [
    "To demonstrate the Embedder, I will show you it's two functions\n",
    "\n",
    "- storing an embedding matrix of word vectors \n",
    "- transforming a sequence of integers that represent token indices, into a sequence of vectors\n",
    "\n",
    "Lets start off by creating a toy embedding with only 2 tokens in it. These tokens will be represented in 4-dimensional space. The data comes to us as a sequence of integers. \n",
    "\n",
    "After creating the embedding, I pass into the Embedder a sequence of token indices, the integers `[1,0,1]` created by this line `source_sequence = torch.from_numpy(np.asarray([1,0,1])).unsqueeze(0)`, the ending `.unsqueeze(0)` adds a batch dimension and thus turns the shape of the input from `[3,]` to `[1,3]`. The information in the tensor is the same, The embedder just requires it's input to be of shape (batch_size, sequence_length)"
   ]
  },
  {
   "cell_type": "code",
   "execution_count": 6,
   "metadata": {},
   "outputs": [
    {
     "name": "stdout",
     "output_type": "stream",
     "text": [
      "source_sequence tensor([[1, 0, 1]]) torch.Size([1, 3])\n",
      "---------------------------------------------------\n",
      "Embedding Matrix Parameter containing:\n",
      "tensor([[ 1.5410, -0.2934, -2.1788,  0.5684],\n",
      "        [-1.0845, -1.3986,  0.4033,  0.8380]], requires_grad=True) torch.Size([2, 4])\n",
      "---------------------------------------------------\n",
      "sequence_of_vectors tensor([[[-1.0845, -1.3986,  0.4033,  0.8380],\n",
      "         [ 1.5410, -0.2934, -2.1788,  0.5684],\n",
      "         [-1.0845, -1.3986,  0.4033,  0.8380]]], grad_fn=<EmbeddingBackward>) torch.Size([1, 3, 4])\n"
     ]
    }
   ],
   "source": [
    "if teaching:  \n",
    "    torch.manual_seed(0)\n",
    "    embedding = Embedder(vocab_size=2, emb_dim=4)\n",
    "    source_sequence = torch.from_numpy(np.asarray([1,0,1])).unsqueeze(0)\n",
    "    print('source_sequence',source_sequence, source_sequence.shape)\n",
    "    print(\"---------------------------------------------------\")\n",
    "    print(\"Embedding Matrix\", embedding.embed.weight, embedding.embed.weight.shape)\n",
    "    print(\"---------------------------------------------------\")\n",
    "    sequence_of_vectors = embedding(source_sequence)\n",
    "    print('sequence_of_vectors',sequence_of_vectors, sequence_of_vectors.shape)"
   ]
  },
  {
   "cell_type": "markdown",
   "metadata": {},
   "source": [
    "## Embedding Matrix\n",
    "\n",
    "Suppose, as I mentioned earlier, I am unhappy with chloe's limited vocabulary `{\"me\":0, \"give\":1}`. I want her to learn the word \"covfefe\". I will have to add a word to her dictionary `{\"covfefe\":2}` (not shown), then I will have to initialize a new word vector and add it, concatenate it, to chloe's embedding matrix `embedding.embed.weight`. In the cell below, I do just that. \n",
    "\n",
    "`concatenated_matrix` is the concatenation of the old matrix `embedding.embed.weight` with the `new_vector` appended to the bottom row. Now we can embed our\n",
    "\n",
    "sequence of integers **(batch_size, sequence_length)** \n",
    "\n",
    "into a vector sequence for the phrase \"give me covfefe\"\n"
   ]
  },
  {
   "cell_type": "code",
   "execution_count": 7,
   "metadata": {},
   "outputs": [
    {
     "name": "stdout",
     "output_type": "stream",
     "text": [
      "new_vector tensor([[0.0098, 0.0430, 0.0206, 0.0090]]) torch.Size([1, 4])\n",
      "---------------------------------------------------\n",
      "New Embedding Matrix Parameter containing:\n",
      "tensor([[ 1.5410, -0.2934, -2.1788,  0.5684],\n",
      "        [-1.0845, -1.3986,  0.4033,  0.8380],\n",
      "        [ 0.0098,  0.0430,  0.0206,  0.0090]], requires_grad=True) torch.Size([3, 4])\n",
      "---------------------------------------------------\n",
      "source_sequence tensor([[1, 0, 2]]) torch.Size([1, 3])\n",
      "---------------------------------------------------\n",
      "sequence_of_vectors tensor([[[-1.0845, -1.3986,  0.4033,  0.8380],\n",
      "         [ 1.5410, -0.2934, -2.1788,  0.5684],\n",
      "         [ 0.0098,  0.0430,  0.0206,  0.0090]]], grad_fn=<EmbeddingBackward>) torch.Size([1, 3, 4])\n"
     ]
    }
   ],
   "source": [
    "if teaching:  \n",
    "    np.random.seed(0)\n",
    "    new_vector = torch.from_numpy(np.random.uniform(-0.1,0.1,(1, 4)).astype(np.float32))\n",
    "    print('new_vector', new_vector, new_vector.shape)\n",
    "    print(\"---------------------------------------------------\")\n",
    "    concatenated_matrix = torch.cat((embedding.embed.weight, new_vector),dim=0)\n",
    "    embedding.embed.weight=nn.Parameter(concatenated_matrix,requires_grad=True)\n",
    "    print(\"New Embedding Matrix\", embedding.embed.weight, embedding.embed.weight.shape)\n",
    "    print(\"---------------------------------------------------\")\n",
    "    source_sequence = torch.from_numpy(np.asarray([1,0,2])).unsqueeze(0)\n",
    "    print('source_sequence',source_sequence, source_sequence.shape)\n",
    "    print(\"---------------------------------------------------\")\n",
    "    sequence_of_vectors = embedding(source_sequence)\n",
    "    print('sequence_of_vectors',sequence_of_vectors, sequence_of_vectors.shape)"
   ]
  },
  {
   "cell_type": "markdown",
   "metadata": {},
   "source": [
    "## Positional Encoding\n",
    "\n",
    "I find it useful to jeep track of the shape of my data as it goes on it's journey through the neural network\n",
    "\n",
    "After the embedding, the shape is this vector sequence is\n",
    "\n",
    "**(batch_size, sequence_length, embedding_dimensions)**\n",
    "\n",
    "`[[-1.0845, -1.3986,  0.4033,  0.8380]`  give\n",
    "\n",
    "` [ 1.5410, -0.2934, -2.1788,  0.5684 ]`  me\n",
    "\n",
    "` [ 0.0098,  0.0430,  0.0206,  0.0090]]` covfefe\n",
    "  \n",
    "The next step is positional encoding. Imagine that the correct response to the above input \n",
    "is \"heres your covfefe\". This response makes sense given the input only in the order \"give me covfefe\". If I were to mix them up and say \" me give covfefe\", you might think that I was about to give you some covfefe, and that I was some sort of caveman. The other popular sequence models are the recurrent neural network (RNN) family of models, these models process the input vectors in chronological order, starting with \"give\", ending with \"covfefe\", updating a hidden state at each timestep. The RNN Decoder likewise continues to modify the hidden state as it predicts the output tokens. Transformers on the other hand pay attention to all inputs at each output step. So unless we bake into the vectors some information about it's position in the sequence (first, second, 6th, last, etc), the Transformer will be dealing with essentially a bag of words. \n",
    "\n",
    "The paper [Attention is all you need](https://arxiv.org/abs/1706.03762) writes:\n",
    "\n",
    "\"Since our model contains no recurrence and no convolution, in order for the model to make use of the order of the sequence, we must inject some information about the relative or absolute position of the tokens in the sequence. To this end, we add \"positional encodings\" to the input embeddings at the bottoms of the encoder and decoder stacks. The positional encodings have the same dimension `dmodel` as the embeddings, so that the two can be summed. There are many choices of positional encodings,learned and fixed. In this work, we use sine and cosine functions of different frequencies:\n",
    " \n",
    " $$\\text{PE}(pos,2i)=sin\\left(\\frac{pos}{10000^{2i/d_{model}}}\\right)$$\n",
    " \n",
    " $$\\text{PE}(pos,2i+1)=cos\\left(\\frac{pos}{10000^{2i/d_{model}}}\\right)$$\n",
    " \n",
    "where pos is the position and i is the dimension. That is, each dimension of the positional encoding corresponds to a sinusoid. The wavelengths form a geometric progression from 2π to 10000·2π. We chose this function because we hypothesized it would allow the model to easily learn to attend by relative positions, since for any fixed offset k, $$PE_{pos+k}$$ can be represented as a linear function of $$PE_{pos}$$ \n",
    "\n",
    "We also experimented with using learned positional embeddings instead, and found that the two versions produced nearly identical results. We chose the sinusoidal version because it may allow the model to extrapolate to sequence lengths longer than the ones encountered during training.\"\n",
    "\n",
    "Below is their Positional Encoder in PyTorch built to take in our shape **(batch_size, sequence_length, embedding_dimensions)** sequence of vectors"
   ]
  },
  {
   "cell_type": "code",
   "execution_count": 8,
   "metadata": {},
   "outputs": [],
   "source": [
    "class PositionalEncoder(nn.Module):\n",
    "\n",
    "    def __init__(self, emb_dim, max_seq_len = 200, dropout = 0.1):\n",
    "        super().__init__()\n",
    "        self. emb_dim =  emb_dim\n",
    "        self.dropout = nn.Dropout(dropout)\n",
    "        # create constant 'pe' matrix with values dependant on pos and i\n",
    "        # this matrix of shape (1, input_seq_len, emb_dim) is\n",
    "        # cut down to shape (1, input_seq_len, emb_dim) int he forward pass\n",
    "        # to be broadcasted across each sampel in the batch \n",
    "        pe = torch.zeros(max_seq_len, emb_dim)\n",
    "        for pos in range(max_seq_len):\n",
    "            for i in range(0, emb_dim, 2):\n",
    "                wavelength = 10000 ** ((2 * i)/ emb_dim)\n",
    "                pe[pos, i] = math.sin(pos / wavelength)\n",
    "                pe[pos, i + 1] = math.cos(pos / wavelength)\n",
    "        pe = pe.unsqueeze(0) #add a batch dimention to your pe matrix \n",
    "        self.register_buffer('pe', pe) #block of data(persistent buffer)->temporary memory\n",
    " \n",
    "    def forward(self, x):\n",
    "        '''\n",
    "        input: sequence of vectors  \n",
    "               shape (batch size, input sequence length, vector dimentions)\n",
    "        output: sequence of vectors of same shape as input with positional\n",
    "                aka time encoding added to each sample \n",
    "                shape (batch size, input sequence length, vector dimentions)\n",
    "        '''\n",
    "        x = x * math.sqrt(self. emb_dim) # make embeddings relatively larger\n",
    "        seq_len = x.size(1)\n",
    "        pe = Variable(self.pe[:,:seq_len], requires_grad=False)\n",
    "        if x.is_cuda:\n",
    "            pe.cuda()\n",
    "        x = x + pe #add constant to embedding\n",
    "        return self.dropout(x)"
   ]
  },
  {
   "cell_type": "markdown",
   "metadata": {},
   "source": [
    "Lets take for example the vector for \"covfefe\" and call it:\n",
    "\n",
    "$$ e_{w} = [ 0.0098,  0.0430,  0.0206,  0.0090] $$\n",
    "\n",
    "The version of our \"covfefe\" vector with the time encoding added to it looks like:\n",
    "\n",
    "$$ e_{w}' =  e_{w} + PostionalEncoding = PostionallyEncodedVector$$\n",
    "\n",
    "Since our vector has only 4 dimensionts, we have positional encoder for 4 dimensions with only 2 iterations of i, this is i = 0 and i = 1, since for each value i, we get positional encoding for 2i and 2i+1.\n",
    "\n",
    "2(0)=0, 2(0)+1 = 1, 2(1)=2, 2(1)+1=3\n",
    "\n",
    "Accoring to the formula above, each of the 2i positions use sine and each of the 2i+1 use cosine, giving us the formula below for how to add a 4 dimensional positional encoding for any given postion *pos*\n",
    "\n",
    "$$\\begin{align*}e_{w}'&= e_{w} + \\left[sin\\left(\\frac{pos}{10000^{2(0)/4}}\\right), cos\\left(\\frac{pos}{10000^{2(0)/4}}\\right),sin\\left(\\frac{pos}{10000^{2(1)/4}}\\right),cos\\left(\\frac{pos}{10000^{2(1)/4}}\\right)\\right]\\\\\n",
    "&= e_{w} + \\left[sin\\left(\\frac{pos}{10000^{0}}\\right), cos\\left(\\frac{pos}{10000^{0}}\\right),sin\\left(\\frac{pos}{10000^{2/4}}\\right),cos\\left(\\frac{pos}{10000^{2/4}}\\right)\\right]\\\\\n",
    "&=e_{w} + \\left[sin\\left(pos\\right), cos\\left(pos\\right),sin\\left(\\frac{pos}{100}\\right),cos\\left(\\frac{pos}{100}\\right)\\right]\\\\\n",
    "\\end{align*}$$\n",
    "\n",
    "for pos = 1, we get \n",
    "\n",
    "$$e_{w}=e_{w} + [0,1,0,1]$$\n",
    "\n",
    "Look at the first row (first postion) of the positional encoding matrix `positioner.pe[:,:seq_len]` you should see a matching `[ 0.0000e+00,  1.0000e+00,  0.0000e+00,  1.0000e+00]`"
   ]
  },
  {
   "cell_type": "code",
   "execution_count": 9,
   "metadata": {},
   "outputs": [
    {
     "name": "stdout",
     "output_type": "stream",
     "text": [
      "torch.Size([1, 100, 4])\n",
      "seq_len 3\n",
      "tensor([[[ 0.0000e+00,  1.0000e+00,  0.0000e+00,  1.0000e+00],\n",
      "         [ 8.4147e-01,  5.4030e-01,  1.0000e-04,  1.0000e+00],\n",
      "         [ 9.0930e-01, -4.1615e-01,  2.0000e-04,  1.0000e+00]]])\n"
     ]
    }
   ],
   "source": [
    "if teaching: \n",
    "    seq_len = sequence_of_vectors.size(1)\n",
    "    positioner = PositionalEncoder(emb_dim=4, max_seq_len=100, dropout=0.0) \n",
    "    print(positioner.pe.shape)\n",
    "    print('seq_len',seq_len)\n",
    "    print(positioner.pe[:,:seq_len])"
   ]
  },
  {
   "cell_type": "markdown",
   "metadata": {},
   "source": [
    "Another way to look at this is that our encoding [0,1,0,1] is the first column of values in the graph below"
   ]
  },
  {
   "cell_type": "code",
   "execution_count": 10,
   "metadata": {},
   "outputs": [
    {
     "data": {
      "image/png": "[encoded data removed]",
      "text/plain": [
       "<Figure size 1080x360 with 1 Axes>"
      ]
     },
     "metadata": {
      "needs_background": "light"
     },
     "output_type": "display_data"
    }
   ],
   "source": [
    "if teaching: \n",
    "    plt.figure(figsize=(15, 5)) \n",
    "    y = positioner(Variable(torch.zeros(1, 100, 4))) \n",
    "    plt.plot(np.arange(100), y[0, :, :].data.numpy())\n",
    "    plt.xlabel('position', fontsize=18)\n",
    "    plt.ylabel('encoding', fontsize=18)\n",
    "    plt.legend([\"dim %d\"%p for p in [0,1,2,3]])"
   ]
  },
  {
   "cell_type": "markdown",
   "metadata": {},
   "source": [
    "When studying Transformers, the part I found most confusing was Positional Encoding. Why it works. The reason is elaborated in\n",
    "[this Blog by  Lennart Van der Goten](http://vandergoten.ai/2018-09-18-attention-is-all-you-need/)\n",
    "\n",
    "Below is a modified diagram from tha blog that shows how each positon gets a unique encoding added to it. Above we use an abnormally small 4 dimensions, below you see the range of encodings than are added to a arbitrarily longer choice of dimensions for d_model, aka emb_dim.\n",
    "\n",
    "<img src=\"../saved/images/positionalencoding.png\">\n",
    "\n",
    "Now lets add the positional encoding to our sequence"
   ]
  },
  {
   "cell_type": "code",
   "execution_count": 11,
   "metadata": {},
   "outputs": [
    {
     "name": "stdout",
     "output_type": "stream",
     "text": [
      "sequence_of_vectors tensor([[[-1.0845, -1.3986,  0.4033,  0.8380],\n",
      "         [ 1.5410, -0.2934, -2.1788,  0.5684],\n",
      "         [ 0.0098,  0.0430,  0.0206,  0.0090]]], grad_fn=<EmbeddingBackward>) torch.Size([1, 3, 4])\n",
      "---------------------------------------------------\n",
      "tensor([[[-2.1690, -1.7972,  0.8067,  2.6761],\n",
      "         [ 3.9235, -0.0466, -4.3575,  2.1369],\n",
      "         [ 0.9288, -0.3301,  0.0413,  1.0180]]], grad_fn=<AddBackward0>) torch.Size([1, 3, 4])\n",
      "---------------------------------------------------\n"
     ]
    }
   ],
   "source": [
    "if teaching:  \n",
    "    print('sequence_of_vectors',sequence_of_vectors, sequence_of_vectors.shape) \n",
    "    print(\"---------------------------------------------------\")\n",
    "    sequence_of_vectors = positioner(sequence_of_vectors)\n",
    "    print(sequence_of_vectors, sequence_of_vectors.shape)\n",
    "    print(\"---------------------------------------------------\")"
   ]
  },
  {
   "cell_type": "markdown",
   "metadata": {},
   "source": [
    "## repeating modules with nn.ModuleList\n",
    "\n",
    "`get_clones()` allows us to stack the same module N number of times. The data would thus pass through multiple modules of the same repeating architecture. To be clear, the weights would be NOT be shared though, each module is allowed to compute something different. \n",
    "\n",
    "FeedForward is a vanilla feed forward neural network that as the same dimensions for it's input as for it's output. If you need a brush up on vanilla feed forward neural networks, I suggest []() or [Welch Labs](https://youtu.be/bxe2T-V8XRs) or [3Blue1Brown](https://youtu.be/aircAruvnKk). One small modification I made here is using the leaky_relu rather than relu activation function. "
   ]
  },
  {
   "cell_type": "code",
   "execution_count": 12,
   "metadata": {},
   "outputs": [],
   "source": [
    "def get_clones(module, N):\n",
    "    return nn.ModuleList([copy.deepcopy(module) for i in range(N)])\n",
    "\n",
    "class FeedForward(nn.Module):\n",
    "    def __init__(self, emb_dim, ff_dim=2048, dropout = 0.1):\n",
    "        super().__init__() \n",
    "    \n",
    "        # We set d_ff as a default to 2048\n",
    "        self.linear_1 = nn.Linear(emb_dim, ff_dim)\n",
    "        self.dropout = nn.Dropout(dropout)\n",
    "        self.linear_2 = nn.Linear(ff_dim, emb_dim)\n",
    "    \n",
    "    def forward(self, x, explain=False):\n",
    "        x = self.dropout(F.leaky_relu(self.linear_1(x)))\n",
    "        if explain: print('hidden layer output',x)\n",
    "        x = self.linear_2(x)\n",
    "        return x"
   ]
  },
  {
   "cell_type": "markdown",
   "metadata": {},
   "source": [
    "`self.linear_1 = nn.Linear(emb_dim, ff_dim)` creates one fully connected layer. Dropout is not a layer, it is simply a way to add robustness to the neural network by randomly zeroing out the outputs of one layer and proportionally scaling up the remainder of the outputs. This forces the next layer to not spread out it's dependence on the previous layers outputs rather than rely too heavily on a few of the previous layers dimensions.\n",
    "\n",
    "The cell below recreates the feed forward neural network (FFNN) depicted in this diagram having an input of dimension 4, a hidden layer with output of dimension 5, and output of dimension 4.\n",
    "\n",
    "<img src=\"../saved/images/feedforward.png\">\n",
    "\n",
    "With `explain=True` as an argument to the forward method of the FeedForward modules that is initiated with a dropout of 0.2, you would expect on average 1 of the 5 hidden layer outputs to be zeroed out to `0.0000` each time you run the forward pass. Run the next cell a couple times to observe this. "
   ]
  },
  {
   "cell_type": "code",
   "execution_count": 13,
   "metadata": {},
   "outputs": [
    {
     "name": "stdout",
     "output_type": "stream",
     "text": [
      "hidden layer output tensor([[-0.0037,  0.5284,  0.2887,  0.0000,  0.0000]], grad_fn=<MulBackward0>)\n",
      "output tensor([[ 0.1001, -0.1847,  0.2447, -0.0275]], grad_fn=<AddmmBackward>)\n"
     ]
    }
   ],
   "source": [
    "if teaching:  \n",
    "    FFNN = FeedForward(emb_dim = 4, ff_dim=5, dropout = 0.2)\n",
    "    x = torch.from_numpy(np.asarray([.01,-.01,.01,-.01])).float().unsqueeze(0)\n",
    "    print('output',FFNN(x, explain=True))"
   ]
  },
  {
   "cell_type": "markdown",
   "metadata": {},
   "source": [
    "Since the input and output dimensions of FeedForward are the same, I can stack any number of them repeatedly together to create an arbitrarily deep neural network. The cell below demonstrates this by demonstrating the use of the `get_clones()` funtion."
   ]
  },
  {
   "cell_type": "code",
   "execution_count": 14,
   "metadata": {},
   "outputs": [],
   "source": [
    "class repeatFeedForward(nn.Module):\n",
    "    def __init__(self, repeats):\n",
    "        super().__init__()\n",
    "        self.repeats = repeats\n",
    "        self.layers = get_clones(FeedForward(emb_dim=4, ff_dim=5, dropout=0.2), repeats)\n",
    "    def forward(self, x, explain=True):\n",
    "        for i in range(self.repeats):\n",
    "            x = self.layers[i](x, explain=explain)\n",
    "        return x"
   ]
  },
  {
   "cell_type": "code",
   "execution_count": 15,
   "metadata": {},
   "outputs": [
    {
     "name": "stdout",
     "output_type": "stream",
     "text": [
      "hidden layer output tensor([[-0.0000, -0.0029,  0.2470, -0.0000,  0.0000]], grad_fn=<MulBackward0>)\n",
      "hidden layer output tensor([[ 0.0000, -0.0000,  0.0922, -0.0027,  0.6105]], grad_fn=<MulBackward0>)\n",
      "hidden layer output tensor([[ 0.0000, -0.0000,  0.2158, -0.0047,  0.3337]], grad_fn=<MulBackward0>)\n",
      "output tensor([[ 0.2067, -0.2059,  0.3808,  0.2397]], grad_fn=<AddmmBackward>)\n"
     ]
    }
   ],
   "source": [
    "if teaching:  \n",
    "    rFFNN = repeatFeedForward(repeats=3)\n",
    "    x = torch.from_numpy(np.asarray([.01,-.01,.01,-.01])).float().unsqueeze(0)\n",
    "    print('output',rFFNN(x, explain=True))"
   ]
  },
  {
   "cell_type": "markdown",
   "metadata": {},
   "source": [
    "## Normalization (Standardizing)\n",
    "\n",
    "This concept is easier to teach in the domain of computer vision. The same concept applies to computer language. In both cases, the data are represented in vector space and both can benefit from normalization. \n",
    "\n",
    "Imagine you train a neural network to recognise pictures of your cat in your house. Then you try to test if it works and you realize that because all your training data was taken during the day, it doesnt recognize your cat as well during the evening, probably because the lighting is different. \n",
    "\n",
    "Thats because if you take one image that the model has learnt well and shift/scale the input features, the parameters are no longer optimal for this shift/scaled image. We normalize the input image to be between 0 and 1 or between -1 and 1 or a unit gaussian so that our first layer can learn faster by focusing on learning the variation within images rather than the variation between images.\n",
    "\n",
    "This same intuition applies not just to the input. Since each layers output is another representation of the data and serves as the input to the next layer, this intuition applies to all the intermediate representations as well. "
   ]
  },
  {
   "cell_type": "code",
   "execution_count": 16,
   "metadata": {},
   "outputs": [],
   "source": [
    "class Norm(nn.Module):\n",
    "    def __init__(self, emb_dim, eps = 1e-6):\n",
    "        super().__init__()\n",
    "        self.size = emb_dim\n",
    "        # alpha and bias are learnable parameters that scale and shift\n",
    "        # the representations respectively, aka stretch and translate \n",
    "        self.alpha = nn.Parameter(torch.ones(self.size))\n",
    "        self.bias = nn.Parameter(torch.zeros(self.size))\n",
    "        self.eps = eps #prevents divide by zero explosions \n",
    "    \n",
    "    def forward(self, x):\n",
    "        '''\n",
    "        input: x, shape (batch size, sequence length, embedding dimensions)\n",
    "        output: norm, shape (batch size, sequence length, embedding dimensions)\n",
    "        '''\n",
    "        norm = (x - x.mean(dim=-1, keepdim=True)) / (x.std(dim=-1, keepdim=True) + self.eps)\n",
    "        norm = self.alpha * norm + self.bias\n",
    "        return norm"
   ]
  },
  {
   "cell_type": "markdown",
   "metadata": {},
   "source": [
    "In the image below, we take whatever the mean is mu and standard devation is sigma, and make it into a unit gaussian aka “standard normal” distribution.\n",
    "\n",
    "<img src=\"https://miro.medium.com/max/744/1*GAcEj37smCOCZMrqp-rjjA.png\">\n",
    "\n",
    "The demo below uses a toy input of shape `[2, 2, 3]`, simulating a batch with 2 samples, 2 words in sequence length, and a embedding dimension of 3. \n",
    "\n",
    "The tensor above `x.mean(dim=-1, keepdim=True)` calculates the mean of each word vector and the tensor above `x.std(dim=-1, keepdim=True)` calculates the standard deviation of each word vector\n",
    "\n",
    "If we make the simplifying assumption that our vector `x` follows a Gaussian distribution. We can subtract the mean and divide by the standard deviation, thereby obtaining a “standard normal” distribution, with mean 0 and standard deviation 1.\n"
   ]
  },
  {
   "cell_type": "code",
   "execution_count": 17,
   "metadata": {},
   "outputs": [
    {
     "name": "stdout",
     "output_type": "stream",
     "text": [
      "tensor([[[0., 1., 2.],\n",
      "         [2., 3., 4.]],\n",
      "\n",
      "        [[1., 2., 3.],\n",
      "         [3., 4., 5.]]]) torch.Size([2, 2, 3])\n",
      "------------------------------------\n",
      "tensor([[[1.],\n",
      "         [3.]],\n",
      "\n",
      "        [[2.],\n",
      "         [4.]]])\n",
      "------------------------------------\n",
      "tensor([[[1.],\n",
      "         [1.]],\n",
      "\n",
      "        [[1.],\n",
      "         [1.]]])\n"
     ]
    }
   ],
   "source": [
    "if teaching:\n",
    "    x = np.asarray([ [[0.0, 1.0, 2.0], [2.0, 3.0, 4.0]], [[1.0, 2.0, 3.0], [3.0, 4.0, 5.0]]  ])\n",
    "    x = torch.from_numpy(x).float()\n",
    "    print(x, x.shape)\n",
    "    print(\"------------------------------------\")\n",
    "    print(x.mean(dim=-1, keepdim=True))\n",
    "    print(\"------------------------------------\")\n",
    "    print(x.std(dim=-1, keepdim=True))"
   ]
  },
  {
   "cell_type": "markdown",
   "metadata": {},
   "source": [
    "## Attention \n",
    "\n",
    "The `MultiHeadAttention()` module takes in a sequence of vectors and outputs a sequence of vectors of teh same shape. What it does to the sequence is modify each vector in such a way that it takes into account, to different degrees, the other vectors in the sequence. \n",
    "\n",
    "Consider the all the different meanings of the word \"date\", spelled the same way\n",
    "\n",
    "- Her favorite fruit is a date.\n",
    "- Carson took Vicki out on a date.\n",
    "- Not to date myself, but I remember listening to cassette tapes.\n",
    "- 10/26/19, thats the date of our wedding\n",
    "\n",
    "The only way for you to know which of these meanings the word \"date\" is being used as, is by using the the other words in the sentence, ie the context. \n",
    "\n",
    "For every word in the sentence, the authors of the Transformer came up with the \"attention head\". Here is one example from the paper [Attention Is All You Need](https://arxiv.org/pdf/1706.03762.pdf) of how one head is using the other words to modify the representation of the word \"it's\"\n",
    "\n",
    "<img src=\"../saved/images/onehead.png\">\n",
    "\n",
    "Several heads are used, to allow different types of attention, the image below shows 3 types of attention for different relationships between words \"who\", \" Did what?\" and \"To whom?\"\n",
    "\n",
    "<img src=\"../saved/images/multihead.png\">\n",
    "\n",
    "Each attention head works the same way, by transforming each vector in the sequence into another vector space. Those vectors are q, k and v, meaning the query, key and value vectors. Where the dot product between the \"it's\" query vector and the \"law\" key vector is proportional to the strength of the attention between \"it's\" and \"law\"\n",
    "\n",
    "[Jay Alammar](http://jalammar.github.io/illustrated-transformer/) does an excellent job in illustrating this in in his blog:\n",
    "\n",
    "Alammar, Jay (2018). The Illustrated Transformer [Blog post]. Retrieved from https://jalammar.github.io/illustrated-transformer/\n",
    "\n",
    "He uses the example source sequence <font color='green'>\"Thinking Machines\"</font> represented by the 2x4 matrix <font color='green'>X</font>. 2x4 because there are 2 words, each word represented by a 4 dimensional vector. The q, k and v vectors are each 3 dimensional. \n",
    "\n",
    "Going from x to q occurs by doing a matrix multiplication. If X is shape (2x4), you can use a matrix W of shape (4x3) to transform X to a matrix <font color='purple'>Q</font> of shape (2x3) Each row q is for one of the 2 words. Instead of running a for loop through all the heads, it is better to \"vectorize\" your operations for computational efficiency, by concatenating all your W's together. In the example below we have 3 heads, so instead of doing 3 seprate matrix multiplications with a transofrmation matrix (4x3) we use one large matrix shape (4x9) and slice our heads out of the longer matrix later\n",
    "\n",
    "<img src=\"../saved/images/qkvmatrix.png\">\n",
    "\n",
    "in the code below, the operation in the image is represented by the code \n",
    "\n",
    "`q = self.q_linear(q)`\n",
    "\n",
    "`k = self.k_linear(k)`\n",
    "\n",
    "`v = self.v_linear(v)`"
   ]
  },
  {
   "cell_type": "code",
   "execution_count": 26,
   "metadata": {},
   "outputs": [],
   "source": [
    "class MultiHeadAttention(nn.Module):\n",
    "    def __init__(self, num_heads, emb_dim, dim_k = None, dropout = 0.1):\n",
    "        super().__init__()\n",
    "        \n",
    "        self.emb_dim = emb_dim\n",
    "        self.dim_k = dim_k if dim_k else emb_dim // num_heads\n",
    "        self.num_heads = num_heads\n",
    "        self.q_linear = nn.Linear(emb_dim,self.dim_k*num_heads)\n",
    "        self.k_linear = nn.Linear(emb_dim,self.dim_k*num_heads)\n",
    "        self.v_linear = nn.Linear(emb_dim,self.dim_k*num_heads)\n",
    "\n",
    "        self.dropout = nn.Dropout(dropout)\n",
    "        self.out = nn.Linear(self.dim_k*num_heads,emb_dim)\n",
    "    \n",
    "    def attention(self, q, k, v, dim_k, mask=None, dropout=None, explain=False):\n",
    "        k = k.transpose(-2, -1)\n",
    "        if explain: print('q, k', q.shape, k.shape)\n",
    "        # matrix multiplication is done using the last two dimensions\n",
    "        # (batch_size,num_heads,q_seq_len,dim_k)X(batch_size,num_heads,dim_k,k_seq_len)\n",
    "        # = (batch_size,num_heads,q_seq_len,k_seq_len)\n",
    "        scores = torch.matmul(q, k) / math.sqrt(dim_k) \n",
    "        if explain: print('scores.shape', scores.shape)\n",
    "        if mask is not None:\n",
    "            mask = mask.unsqueeze(1)\n",
    "            if explain: print('mask.shape', mask.shape)\n",
    "            scores = scores.masked_fill(mask == 0, -1e9) \n",
    "        softscores = F.softmax(scores, dim=-1)\n",
    "        if dropout is not None: softscores = dropout(softscores)\n",
    "            \n",
    "        #(batch_size,num_heads,q_seq_len, k_seq_len)X(batch_size,num_heads,v_seq_len,dim_v)\n",
    "        output = torch.matmul(softscores, v)\n",
    "        return output, scores #=(batch_size,num_heads,q_seq_len,dim_v)\n",
    "    \n",
    "    def forward(self, q, k, v, mask=None, explain=False):\n",
    "        '''\n",
    "        inputs:\n",
    "            q has shape (batch size, q_sequence length, embedding dimensions)\n",
    "            k,v are shape (batch size, kv_sequence length, embedding dimensions)\n",
    "            source_mask of shape (batch size, 1, kv_sequence length)\n",
    "        outputs: sequence of vectors, re-represented using attention\n",
    "            shape (batch size, q_sequence length, embedding dimensions)\n",
    "        use:\n",
    "            The encoder layer places the same source vector sequence into q,k,v \n",
    "            and source_mask into mask.\n",
    "            The decoder layer uses this twice, once with decoder inputs as q,k,v \n",
    "            and target mask as mask. then with decoder inputs as q, encoder outputs\n",
    "            as k, v and source mask as mask\n",
    "        '''\n",
    "        # k,q,v are each shape (batch size, sequence length, dim_k * num_heads)\n",
    "        batch_size = q.size(0)\n",
    "        q = self.q_linear(q)\n",
    "        k = self.k_linear(k)\n",
    "        v = self.v_linear(v)\n",
    "        if explain: print(\"(batch size, sequence length, dim_k * num_heads)\", k.shape)\n",
    "        # k,q,v are each shape (batch size, sequence length, num_heads, dim_k)\n",
    "        k = k.view(batch_size,-1,self.num_heads,self.dim_k)\n",
    "        q = q.view(batch_size,-1,self.num_heads,self.dim_k)\n",
    "        v = v.view(batch_size,-1,self.num_heads,self.dim_k)\n",
    "        # transpose to shape (batch_size, num_heads, sequence length, dim_k)\n",
    "        k = k.transpose(1,2)\n",
    "        q = q.transpose(1,2)\n",
    "        v = v.transpose(1,2)\n",
    "        if explain: print(\"(batch_size,num_heads,seq_length,dim_k)\",k.shape)\n",
    "        # calculate attention using function we will define next\n",
    "        attn, scores = self.attention(q, k, v, self.dim_k, mask, self.dropout, explain)\n",
    "        if explain: print(\"attn(batch_size,num_heads,seq_length,dim_k)\", attn.shape)\n",
    "        # concatenate heads, dim_k = dim_v\n",
    "        concat=attn.transpose(1,2).contiguous().view(batch_size,-1,self.dim_k*self.num_heads)\n",
    "        if explain: print(\"concat.shape\", concat.shape)\n",
    "        # put through final linear layer\n",
    "        output = self.out(concat)\n",
    "        if explain: print(\"MultiHeadAttention output.shape\", output.shape)\n",
    "        return output, scores"
   ]
  },
  {
   "cell_type": "markdown",
   "metadata": {},
   "source": [
    "The key and query vectors are dot producted with each other, so dim_q == dim_k, we will just call it dim_qk\n",
    "\n",
    "In the forward method of MultiHeadAttention above, the `view()` and `transpose()` operations serve to [re-arrange](https://discuss.pytorch.org/t/tensor-view-is-misleading/20553) the matrices q, k, into the shape **(batch_size, num_heads ,seq_len, dim_qk)**  \n",
    "\n",
    "The last two dimensions of `k` are transposed by the line `k = k.transpose(-2, -1)` such that `k` is reshaped to  **(batch_size, num_heads , dim_qk, seq_len)**\n",
    "\n",
    "The reason for this is so that in the attention function we can accomplish the dot product operation through matrix multiplication in the line ` scores = torch.matmul(q, k) / math.sqrt(dim_k)`. PyTorch's matmul operation, performs matrix multiplication on the last two dimensions of our tensors.  We are essentially performing the matrix multiplication <font color='purple'>query (q_seq_len, dim_qk)</font> X <font color='orange'>key (dim_qk, k_seq_len)</font> =<font color='red'> score matrix (q_seq_len, k_seq_len)</font> for every sample in the batch and for every head. \n",
    "\n",
    "We have saved ourselves from having to implement 2 for loops. \n",
    "\n",
    "<img src=\"../saved/images/scorematrix.png\">\n",
    "\n",
    "In `scores = F.softmax(scores, dim=-1)` a <font color='red'> softmax </font> is applied such that each row sums to 1.0 (red matrix)\n",
    "\n",
    "In the line  `output = torch.matmul(scores, v)` we are essentilly performing the operations of shape <font color='red'>score matrix (q_seq_len, k_seq_len)</font> X <font color='lightblue'>values (v_seq_len, dim_v)</font> = <font color='blue'>context values (v_seq_len, dim_v)</font> for every sample in the batch and for every head. \n",
    "The sequence length of the keys and values must be the same but dont have to match the sequence length of the query. \n",
    "\n",
    "<img src=\"../saved/images/contextmatrix.png\">\n",
    "\n",
    "One way to interpret the first row of the score matrix is that it is saying \n",
    "\n",
    "\"rebalance the word 'Thinking' by taking 80% of the magnitude of 'Thinking' and add it to 20% of the value of 'Machines'\"\n",
    "\n",
    "`concat=attn.transpose(1,2).contiguous().view(batch_size,-1,self.dim_k*self.num_heads)` reshapes the tensor by concatenating all the values from each head to make a tensor shape (batch size, sequence length, dim_v*num_heads)\n",
    "\n",
    "`output = self.out(concat)` uses a matrix multiplication to tranform each dim_v word vector to one of the same size as the embedding dimensions. The result is that the shape of the attention output is the same as the input. \n",
    "(batch size, sequence length, embedding dimensions)\n",
    "\n",
    "The demo below uses a toy input of shape `[2, 3, 5]`, simulating a batch with 2 samples, 3 words in sequence length, and a embedding dimension of 5. We pretend that the last word in the first sample is a padding vector and is therefore masked out. "
   ]
  },
  {
   "cell_type": "code",
   "execution_count": 19,
   "metadata": {},
   "outputs": [
    {
     "name": "stdout",
     "output_type": "stream",
     "text": [
      "input_vectors shape \n",
      " torch.Size([2, 3, 5])\n",
      "---------------------------------------\n",
      "input_mask \n",
      " tensor([[[ True,  True, False]],\n",
      "\n",
      "        [[ True,  True,  True]]]) torch.Size([2, 1, 3])\n",
      "---------------------------------------\n"
     ]
    }
   ],
   "source": [
    "if teaching:\n",
    "    input_vectors = np.asarray([ \n",
    "                    [[0.0, 0.0, 0.1, 0.2, 0.3],[0.0, 0.1, 0.2, 0.3, 0.4],[0.0, 0.2, 0.3, 0.4, 0.5]], \n",
    "                    [[0.0, 0.1, 0.2, 0.3, 0.4],[0.0, 0.2, 0.3, 0.4, 0.5],[0.0, 0.3, 0.4, 0.5, 0.6]]  \n",
    "                               ])\n",
    "\n",
    "    input_mask = torch.from_numpy(np.ones((2,1,3)) == 1)\n",
    "    input_mask[0,0,-1] = False\n",
    "    input_vectors = torch.from_numpy(input_vectors).float()\n",
    "\n",
    "    print('input_vectors shape \\n', input_vectors.shape)\n",
    "    print('---------------------------------------')\n",
    "    print('input_mask \\n', input_mask, input_mask.shape)\n",
    "    print('---------------------------------------')"
   ]
  },
  {
   "cell_type": "code",
   "execution_count": 20,
   "metadata": {},
   "outputs": [
    {
     "name": "stdout",
     "output_type": "stream",
     "text": [
      "(batch size, sequence length, dim_k * num_heads) torch.Size([2, 3, 24])\n",
      "(batch_size,num_heads,seq_length,dim_k) torch.Size([2, 6, 3, 4])\n",
      "q, k torch.Size([2, 6, 3, 4]) torch.Size([2, 6, 4, 3])\n",
      "scores.shape torch.Size([2, 6, 3, 3])\n",
      "attn(batch_size,num_heads,seq_length,dim_k) torch.Size([2, 6, 3, 4])\n",
      "concat.shape torch.Size([2, 3, 24])\n",
      "MultiHeadAttention output.shape torch.Size([2, 3, 5])\n"
     ]
    }
   ],
   "source": [
    "if teaching:\n",
    "    multiattention = MultiHeadAttention(num_heads=6,emb_dim=5,dim_k=4,dropout=0.0)\n",
    "    output, scores = multiattention(input_vectors,input_vectors,input_vectors,input_mask,explain=True)"
   ]
  },
  {
   "cell_type": "markdown",
   "metadata": {},
   "source": [
    "## Masks and Softmax\n",
    "The last thing to cover in the `MultiHeadAttention()` function is the way the mask is applied to the attention scores and the way the softmax is applied to the attention scores. \n",
    "\n",
    "In intuitive words, imagine that the first sample is `thinking machines <pad>`. We dont need to incorporate the token `<pad>` into the representation of \"thinking\" or \"machines\" so our mask for this sequence is `[ True,  True, False]`.\n",
    "In the case of the decoder output, the mask depends on what step in the output we are in. Each output can only attend to the previous outputs so the mask will look something like `[ True]` for the first step and `[ True,  True, True, False]` for the 3rd step etc. This is more relevant for training but not for inference. \n",
    "\n",
    "The mask is reshaped into (batch size, 1, 1, sequence length) in the case of the source mask, and (batch size, 1, sequence length, sequence length) in the case of the target mask.\n",
    "\n",
    "This is [broadcasted](https://medium.com/ai%C2%B3-theory-practice-business/understanding-broadcasting-in-pytorch-ca9e9533f05f) across the scores which are of shape (batch size, number of heads, sequence length, sequence length). Broadcasting will apply the mask across each row of the (sequence length x sequence length) matrix. Think of each row as the being assigned to each token. The first row is for the token \"thinking\". If this row looks something like `[2.0, 0.1, -100]`, it means that the word \"thinking\" should be defined mostly by it's own token `2.0`, alittle by the word \"machines\" `0.1`, and practically not at all by the padding token `-100`. The code `scores = scores.masked_fill(mask == 0, -1e9)` takes the very negative value, `-1e9` and replaces the score values at equivalent position where the mask has `False` or `0` as it's element, with this very negative value `-1.0000e+09`. \n",
    "\n",
    "`softscores = F.softmax(scores, dim=-1)` will then rebalance each row such that they all sum to 1.0, `dim=-1` means the last dimension. Think of a matrix that has 2 rows and 3 columns, it is a 2 x 3 matrix. If you softmax across the last dimension of size 3, you are making all 3 of those sum to 1.0 \n",
    "\n",
    "In the cell below we demonstrate what we have discussed by running the attention function without the mask, getting the unmasked score and applying the mask to the score step by step for demonstration"
   ]
  },
  {
   "cell_type": "code",
   "execution_count": null,
   "metadata": {},
   "outputs": [],
   "source": [
    "if teaching:\n",
    "    output, scores = multiattention(input_vectors,input_vectors,input_vectors,explain=False)\n",
    "    print(input_mask, input_mask.shape, scores.shape)\n",
    "    print(scores[0,0,:,:])\n",
    "    print(scores[1,0,:,:])\n",
    "    print(\"------------------------------------------------------\")\n",
    "    mask = input_mask.unsqueeze(1)\n",
    "    print(mask, mask.shape, scores.shape)\n",
    "    scores = scores.masked_fill(mask == 0, -1e9) \n",
    "    print(scores[0,0,:,:])\n",
    "    print(scores[1,0,:,:])\n",
    "    print(\"------------------------------------------------------\")\n",
    "    softscores = F.softmax(scores, dim=-1)\n",
    "    print(softscores[0,0,:,:])\n",
    "    print(softscores[1,0,:,:])"
   ]
  },
  {
   "cell_type": "markdown",
   "metadata": {},
   "source": [
    "Wow, that was alot to cover. I am giving you a high five for getting through all this. You have now learned the building blocks of the Transformer. The rest of the transformer is taking these LEGO pieces and assembling them. Go to Encoder.ipynb for the next lesson\n",
    "\n",
    "## How can I help you or get help from you?\n",
    "\n",
    "[Support *ChloeRobotics* on Patreon and send us a message](https://www.patreon.com/chloerobotics)\n",
    "\n",
    "## Questions?\n",
    "\n",
    "email chloe.the.robot [at] gmail [dot] com "
   ]
  },
  {
   "cell_type": "code",
   "execution_count": null,
   "metadata": {},
   "outputs": [],
   "source": []
  }
 ],
 "metadata": {
  "kernelspec": {
   "display_name": "Python 3",
   "language": "python",
   "name": "python3"
  },
  "language_info": {
   "codemirror_mode": {
    "name": "ipython",
    "version": 3
   },
   "file_extension": ".py",
   "mimetype": "text/x-python",
   "name": "python",
   "nbconvert_exporter": "python",
   "pygments_lexer": "ipython3",
   "version": "3.8.2"
  }
 },
 "nbformat": 4,
 "nbformat_minor": 2
}
