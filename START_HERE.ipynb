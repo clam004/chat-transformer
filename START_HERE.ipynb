{
 "cells": [
  {
   "cell_type": "markdown",
   "metadata": {},
   "source": [
    "<h1><center>Chloebot</center></h1>\n",
    "\n",
    "<table><tr style=\"background:transparent;\">\n",
    "<td><img width=\"200\" height=\"200\" src=\"https://csml.princeton.edu/sites/csml/files/styles/pwds_featured_image/public/events/share.png\"></td>\n",
    "<td><img width=\"200\" height=\"200\" src=\"https://venturebeat.com/wp-content/uploads/2019/06/pytorch.jpg\"></td>\n",
    "<td><img width=\"100\" height=\"100\" src=\"https://avatars3.githubusercontent.com/u/56938552?s=100&v=1\"></td>  \n",
    "</tr></table>\n",
    "\n",
    "\n",
    "This tutorial is based on the research [Attention Is All You Need](https://arxiv.org/abs/1706.03762) from Google AI, and the PyTorch implementation by [Harvard NLP group](http://nlp.seas.harvard.edu/2018/04/03/attention.html) and [SamLynnEvans](https://github.com/SamLynnEvans/Transformer) \n",
    "\n",
    "Each of these rectangles, like this one you are reading from, and the ones with code in them, are called a cells, click one cell and Press *shift* + *return or enter* together, or go to Cell in the nav bar and click \"Run Cells\" to run each of the next cells below to summon chloe"
   ]
  },
  {
   "cell_type": "code",
   "execution_count": 23,
   "metadata": {},
   "outputs": [
    {
     "name": "stderr",
     "output_type": "stream",
     "text": [
      "[nltk_data] Downloading package wordnet to /Users/carson/nltk_data...\n",
      "[nltk_data]   Package wordnet is already up-to-date!\n"
     ]
    }
   ],
   "source": [
    "import math, copy, sys\n",
    "\n",
    "sys.path.append('env/lib/python3.6/site-packages') #this line assumes you are using env\n",
    "\n",
    "import torch\n",
    "\n",
    "import nltk\n",
    "nltk.download('wordnet') \n",
    "\n",
    "from scripts.MoveData import *\n",
    "from scripts.Transformer import *\n",
    "from scripts.TalkTrain import *"
   ]
  },
  {
   "cell_type": "code",
   "execution_count": 12,
   "metadata": {
    "scrolled": true
   },
   "outputs": [
    {
     "data": {
      "text/plain": [
       "<All keys matched successfully>"
      ]
     },
     "execution_count": 12,
     "metadata": {},
     "output_type": "execute_result"
    }
   ],
   "source": [
    "opt = Options(batchsize=8, device=torch.device(\"cpu\"), epochs=25, \n",
    "              lr=0.01, max_len = 25, save_path = 'saved/weights/transformer_example_weights')\n",
    "\n",
    "data_iter, infield, outfield, opt = json2datatools(path = 'saved/examplepairs.json', opt=opt)\n",
    "emb_dim, n_layers, heads, dropout = 32, 2, 8, 0.1 \n",
    "chloe = Transformer(len(infield.vocab), len(outfield.vocab), emb_dim, n_layers, heads, dropout)\n",
    "chloe.load_state_dict(torch.load(opt.save_path)) "
   ]
  },
  {
   "cell_type": "markdown",
   "metadata": {},
   "source": [
    "## Conversation\n",
    "\n",
    "The next cell uses a `while` loop to make the chloe continuously ask for the next input sentence. \n",
    "\n",
    "say \"hi\" to chloe\n",
    "\n",
    "When you want to turn off this cell and end the conversation, tell her \"bye chloe\", or click Kernel-> Interrupt\n",
    "\n",
    "Here is an example conversation:\n",
    "\n",
    "You > hi\n",
    "\n",
    "Chloe > hi ! , can i tell you a joke ?\n",
    "\n",
    "You > ok\n",
    "\n",
    "Chloe > how do french cats say thank you ?\n",
    "\n",
    "You > how?\n",
    "\n",
    "Chloe > meowci beaucoup !\n",
    "\n",
    "You > haha\n",
    "\n",
    "Chloe > thanks for laughing at my joke\n",
    "\n",
    "You > any more?\n",
    "\n",
    "Chloe > you will have to teach me\n",
    "\n",
    "You > are you alive?\n",
    "\n",
    "Chloe > depends on your definition of alive , are viruses alive ?\n",
    "\n",
    "You > i dont know\n",
    "\n",
    "Chloe > i dont know either\n",
    "\n",
    "You > ok bye\n",
    "\n",
    "Chloe > bye ttyl\n"
   ]
  },
  {
   "cell_type": "code",
   "execution_count": 13,
   "metadata": {
    "scrolled": true
   },
   "outputs": [
    {
     "name": "stdout",
     "output_type": "stream",
     "text": [
      "You > hi\n",
      "Chloe > hi ! , can i tell you a joke ?\n",
      "\n",
      "You > sure\n",
      "Chloe > how do french cats say thank you ?\n",
      "\n",
      "You > how\n",
      "Chloe > meowci beaucoup !\n",
      "\n",
      "You > haha\n",
      "Chloe > thanks for laughing at my joke\n",
      "\n",
      "You > any more?\n",
      "Chloe > you will have to teach me\n",
      "\n",
      "You > are you alive?\n",
      "Chloe > depends on your definition of alive , are viruses alive ?\n",
      "\n",
      "You > i dunno\n",
      "Chloe > i dont know either\n",
      "\n",
      "You > ok bye\n",
      "Chloe > bye ttyl\n",
      "\n"
     ]
    }
   ],
   "source": [
    " while True:\n",
    "    tell_chloe = input(\"You > \")\n",
    "    chloes_reply = talk_to_chloe(tell_chloe, chloe, opt, infield, outfield)\n",
    "    if (\"bye chloe\" in tell_chloe or \"bye ttyl\" in chloes_reply):\n",
    "        print('Chloe > '+ chloes_reply + '\\n')\n",
    "        break\n",
    "    else:\n",
    "        print('Chloe > '+ chloes_reply + '\\n') "
   ]
  },
  {
   "cell_type": "markdown",
   "metadata": {},
   "source": [
    "## Data\n",
    "\n",
    "Now lets teach chloe a few new tricks, use your preferred text editor to open the file called *custompairs.json* that is included in the */saved* folder and add a few of your own conversation pairs to the list. \n",
    "\n",
    "For example, if you want chloe to say \"hi vicki\" when you say, \"hi i am vicki\", then add this line to *saved/pairs.json*\n",
    "\n",
    "{\"listen\": \"hi i am vicki\", \"reply\" : \"hi vicki\"}\n",
    "\n",
    "Be careful not to add blank lines to the json file, if you do so on accident, just put your cursor on the blank line and hit *backspace* to get rid of it. \n",
    "\n",
    "In the cell below, `data_iter` is a data loader object that gives you training data in the form of batches everytime you call it, `infield` and `outfield` are objects that store the relationship between the strings in Chloe's vocabulary with their indices, for the words Chloe expects to hear and the words Chloe expects to use in response. What do I mean by this? go to Insert and insert a cell below then run `infield.vocab.stoi`, you will see a dictionary of all the words Chloe expects to hear and each word's integer index. We need to recreate this vocabulary because by adding more lines of data, you probably have added some new vocab words that chloe must know. `opt` is a object of the options class that stores your preferences such as your learning rate (lr), path to where you want your neural network weights saved, etc. Run the cell below AFTER you have added your lines of new data to 'saved/pairs.json'"
   ]
  },
  {
   "cell_type": "code",
   "execution_count": 14,
   "metadata": {},
   "outputs": [],
   "source": [
    "data_iter, infield, outfield, opt = json2datatools(path = 'saved/custompairs.json', opt=opt)"
   ]
  },
  {
   "cell_type": "markdown",
   "metadata": {},
   "source": [
    "## Neural Network Model\n",
    "\n",
    "OK, now that we have built a data loader, a vocabulary and an object to store our preferences, lets instantiate a Transformer sequence to sequence model. There is alot summoned by the line `model = Transformer(len(infield.vocab), len(outfield.vocab), emb_dim, n_layers, heads, dropout)`, Transformers are the general neural architecture behind many of hyped up / notorious research models of 2017-2019 such as OpenAI's [GPT-2](http://jalammar.github.io/illustrated-gpt2/) and Google AI's [BERT](https://arxiv.org/abs/1810.04805)\n",
    "\n",
    "We will take our time with dissecting and understanding it's components later. In the cell below `emb_dim`, `n_layers`, `heads`, `dropout` stand for embedding dimensions, number of layers, attention heads and dropout. These are some of the specifications that indicate the size and complexity of the Transformer we are going to instantiate. The number provided here create a relatively small Transformer for our toy example. `model` is the instance of the Transformer, aka chloe, that we are creating and training"
   ]
  },
  {
   "cell_type": "code",
   "execution_count": 15,
   "metadata": {},
   "outputs": [],
   "source": [
    "emb_dim, n_layers, heads, dropout = 32, 2, 8, 0.1 \n",
    "chloe = Transformer(len(infield.vocab), len(outfield.vocab), \n",
    "                    emb_dim, n_layers, heads, dropout)"
   ]
  },
  {
   "cell_type": "markdown",
   "metadata": {},
   "source": [
    "## Training\n",
    "\n",
    "Neural network optimization is a whole [field](https://www.jeremyjordan.me/nn-learning-rate/) in itself, we will talk more about this in the future. For now, just know the learning rate `opt.lr` is a hyperparameter whose initial value we choose, it modifies the magnitude of the step the Adam optimizer algorithm will take to update the weights, aka parameters, of the neural network model during training. As training progresses the learning rate is also changing according to a scheduler that monitors the learning progress. `epochs` is the number of times we will cycle through the data during training. If you trained on the same dataset in a different sitting and would like to reload that trained model instead of training from scratch, simply paste this line of code below `model.load_state_dict(torch.load(opt.save_path))` before running it. The cell below defines the learning rate, epochs, type of optimzer and type of scheduler we will use for training."
   ]
  },
  {
   "cell_type": "code",
   "execution_count": 16,
   "metadata": {
    "scrolled": true
   },
   "outputs": [],
   "source": [
    "optimizer = torch.optim.Adam(chloe.parameters(), lr=opt.lr, betas=(0.9, 0.98), eps=1e-9)\n",
    "scheduler = torch.optim.lr_scheduler.ReduceLROnPlateau(optimizer, 'min', factor=0.9, patience=3)"
   ]
  },
  {
   "cell_type": "markdown",
   "metadata": {},
   "source": [
    "Now lets train the chloe on your modified json dataset, chloe should quickly memorize the data. As the loss decreases, chloe learns from the data to output the corresponding sequence when fed inputs that are close enough to the training inputs. When the loss is less than 0.1, the responses should become coherent. You can re-instantiate chloe to start fresh or rerun the cell below if you need to get the loss lower with more training. If the loss is not yet less than 0.1, just run the cell below again and train from where you left off"
   ]
  },
  {
   "cell_type": "code",
   "execution_count": 17,
   "metadata": {},
   "outputs": [],
   "source": [
    "def trainer(model, data_iterator, options, optimizer, scheduler):\n",
    "\n",
    "    if torch.cuda.is_available() and options.device == torch.device(\"cuda:0\"):\n",
    "        print(\"a GPU was detected, model will be trained on GPU\")\n",
    "        model = model.cuda()\n",
    "    else:\n",
    "        print(\"training on cpu\")\n",
    "\n",
    "    model.train()\n",
    "    start = time.time()\n",
    "    best_loss = 100\n",
    "    for epoch in range(options.epochs):\n",
    "        total_loss = 0\n",
    "        for i, batch in enumerate(data_iterator): \n",
    "            src = batch.listen.transpose(0,1)\n",
    "            trg = batch.reply.transpose(0,1)\n",
    "            #print(trg)\n",
    "            trg_input = trg[:, :-1]\n",
    "            src_mask, trg_mask = create_masks(src, trg_input, options)\n",
    "            preds = model(src, src_mask, trg_input, trg_mask)\n",
    "            #print(preds.shape, trg.shape)\n",
    "            ys = trg[:, 1:].contiguous().view(-1)\n",
    "            optimizer.zero_grad()\n",
    "            preds = preds.view(-1, preds.size(-1))\n",
    "            #print(preds.shape, ys.shape)\n",
    "            batch_loss = F.cross_entropy(preds, ys, \n",
    "                                         ignore_index = options.trg_pad)\n",
    "            batch_loss.backward()\n",
    "            optimizer.step()\n",
    "            total_loss += batch_loss.item()\n",
    "\n",
    "        epoch_loss = total_loss/(num_batches(data_iterator)+1)\n",
    "        scheduler.step(epoch_loss)\n",
    "\n",
    "        if epoch_loss < best_loss:\n",
    "            best_loss = epoch_loss\n",
    "            print(f'saving model at', options.save_path)\n",
    "            torch.save(model.state_dict(), options.save_path)\n",
    "            \n",
    "        print(\"%dm: epoch %d loss = %.3f\" %((time.time() - start)//60, epoch, epoch_loss))\n",
    "        total_loss = 0\n",
    "\n",
    "    return model"
   ]
  },
  {
   "cell_type": "code",
   "execution_count": 18,
   "metadata": {},
   "outputs": [
    {
     "name": "stdout",
     "output_type": "stream",
     "text": [
      "training on cpu\n",
      "saving model at saved/weights/transformer_example_weights\n",
      "0m: epoch 0 loss = 2.969\n",
      "saving model at saved/weights/transformer_example_weights\n",
      "0m: epoch 1 loss = 2.092\n",
      "saving model at saved/weights/transformer_example_weights\n",
      "0m: epoch 2 loss = 1.565\n",
      "saving model at saved/weights/transformer_example_weights\n",
      "0m: epoch 3 loss = 1.229\n",
      "saving model at saved/weights/transformer_example_weights\n",
      "0m: epoch 4 loss = 0.954\n",
      "saving model at saved/weights/transformer_example_weights\n",
      "0m: epoch 5 loss = 0.839\n",
      "saving model at saved/weights/transformer_example_weights\n",
      "0m: epoch 6 loss = 0.684\n",
      "saving model at saved/weights/transformer_example_weights\n",
      "0m: epoch 7 loss = 0.583\n",
      "saving model at saved/weights/transformer_example_weights\n",
      "0m: epoch 8 loss = 0.506\n",
      "saving model at saved/weights/transformer_example_weights\n",
      "0m: epoch 9 loss = 0.410\n",
      "saving model at saved/weights/transformer_example_weights\n",
      "0m: epoch 10 loss = 0.343\n",
      "saving model at saved/weights/transformer_example_weights\n",
      "0m: epoch 11 loss = 0.270\n",
      "saving model at saved/weights/transformer_example_weights\n",
      "0m: epoch 12 loss = 0.229\n",
      "saving model at saved/weights/transformer_example_weights\n",
      "0m: epoch 13 loss = 0.212\n",
      "saving model at saved/weights/transformer_example_weights\n",
      "0m: epoch 14 loss = 0.174\n",
      "saving model at saved/weights/transformer_example_weights\n",
      "0m: epoch 15 loss = 0.148\n",
      "saving model at saved/weights/transformer_example_weights\n",
      "0m: epoch 16 loss = 0.124\n",
      "saving model at saved/weights/transformer_example_weights\n",
      "0m: epoch 17 loss = 0.095\n",
      "0m: epoch 18 loss = 0.111\n",
      "0m: epoch 19 loss = 0.103\n",
      "saving model at saved/weights/transformer_example_weights\n",
      "0m: epoch 20 loss = 0.074\n",
      "saving model at saved/weights/transformer_example_weights\n",
      "0m: epoch 21 loss = 0.066\n",
      "saving model at saved/weights/transformer_example_weights\n",
      "0m: epoch 22 loss = 0.054\n",
      "0m: epoch 23 loss = 0.056\n",
      "0m: epoch 24 loss = 0.062\n"
     ]
    }
   ],
   "source": [
    "chloe = trainer(chloe, data_iter, opt, optimizer, scheduler)"
   ]
  },
  {
   "cell_type": "markdown",
   "metadata": {},
   "source": [
    "## Evaluation\n",
    "\n",
    "Now talk to chloe! by modifying the `tell_chloe` variable and running the cell below. Your input sentence that Chloe hears has to be tokenized (split into separate words), converted from strings to a sequence of integers, inputted to the model (chloe), who then responds with a sequence of integers, that sequence is converted back into strings for you to read. All this is taken care of by the `talk_to_model()` function below "
   ]
  },
  {
   "cell_type": "code",
   "execution_count": 19,
   "metadata": {},
   "outputs": [
    {
     "name": "stdout",
     "output_type": "stream",
     "text": [
      "Chloe > hi vicki\n",
      "\n"
     ]
    }
   ],
   "source": [
    "tell_chloe = \"hi i am vicki\" \n",
    "chloes_reply = talk_to_chloe(tell_chloe, chloe, opt, infield, outfield)\n",
    "print('Chloe > '+ chloes_reply + '\\n')"
   ]
  },
  {
   "cell_type": "markdown",
   "metadata": {},
   "source": [
    "## Discussion\n",
    "\n",
    "Notice that chloe is a combination of hard coded rules and also neural network. The neural network portion allows chloe to encode, or represent, your messages to her in a way that she can make use of, even if that message was not exactly in the training data. if it is close enough, she knows what to do next. chloe is cute, at least i think so, but there is alot we can do to make chloe smarter and more useful. \n",
    "\n",
    "For example, is chloe just responding to each of your messages with a simple mapping between input and output? or does chloe take into account the entire conversation so far, or even previous conversations? is chloe trying to accomplish anything? what is the point of her conversation?  is there a reward signal we can build into the learning so that chloebot learns from experience to achieve a goal aka objective? can chloe learn new words or understand misspelled words? not yet. can chloebot use outside knowledge to inform her conversations? not yet. "
   ]
  },
  {
   "cell_type": "code",
   "execution_count": 21,
   "metadata": {},
   "outputs": [
    {
     "name": "stdout",
     "output_type": "stream",
     "text": [
      "You > hi\n",
      "Chloe > hi ! , can i tell you a joke ?\n",
      "\n",
      "You > bye\n",
      "Chloe > bye ttyl\n",
      "\n"
     ]
    }
   ],
   "source": [
    " while True:\n",
    "    tell_chloe = input(\"You > \")\n",
    "    chloes_reply = talk_to_chloe(tell_chloe, chloe, opt, infield, outfield)\n",
    "    if (\"bye chloe\" in tell_chloe or \"bye ttyl\" in chloes_reply):\n",
    "        print('Chloe > '+ chloes_reply + '\\n')\n",
    "        break\n",
    "    else:\n",
    "        print('Chloe > '+ chloes_reply + '\\n') "
   ]
  },
  {
   "cell_type": "markdown",
   "metadata": {},
   "source": [
    "## Whats Next\n",
    "\n",
    "The next lesson is an intuitive explaination of loss functions with a toy coding example that is expanded to pytorch tensors, tokenization and an explaination of the training function `trainer()` used in this introductory lesson. Go to `notebooks/Trainer.ipynb` for the next part of this adventure. see you there!\n",
    "\n",
    "<img src=\"https://avatars3.githubusercontent.com/u/56938552?s=100&v=1\">"
   ]
  },
  {
   "cell_type": "code",
   "execution_count": null,
   "metadata": {},
   "outputs": [],
   "source": []
  }
 ],
 "metadata": {
  "kernelspec": {
   "display_name": "Python 3",
   "language": "python",
   "name": "python3"
  },
  "language_info": {
   "codemirror_mode": {
    "name": "ipython",
    "version": 3
   },
   "file_extension": ".py",
   "mimetype": "text/x-python",
   "name": "python",
   "nbconvert_exporter": "python",
   "pygments_lexer": "ipython3",
   "version": "3.8.2"
  }
 },
 "nbformat": 4,
 "nbformat_minor": 2
}
